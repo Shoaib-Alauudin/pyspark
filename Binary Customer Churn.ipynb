{
 "cells": [
  {
   "cell_type": "code",
   "execution_count": 1,
   "metadata": {},
   "outputs": [],
   "source": [
    "# Load spark packages\n",
    "from pyspark.sql import SparkSession\n",
    "spark  = SparkSession.builder.appName(\"bcc\").getOrCreate()"
   ]
  },
  {
   "cell_type": "code",
   "execution_count": 2,
   "metadata": {},
   "outputs": [],
   "source": [
    "# Load data\n",
    "df = spark.read.csv(\"dataset/logistic_reg/customer_churn.csv\",inferSchema=True,header=True)"
   ]
  },
  {
   "cell_type": "code",
   "execution_count": 3,
   "metadata": {},
   "outputs": [
    {
     "name": "stdout",
     "output_type": "stream",
     "text": [
      "root\n",
      " |-- Names: string (nullable = true)\n",
      " |-- Age: double (nullable = true)\n",
      " |-- Total_Purchase: double (nullable = true)\n",
      " |-- Account_Manager: integer (nullable = true)\n",
      " |-- Years: double (nullable = true)\n",
      " |-- Num_Sites: double (nullable = true)\n",
      " |-- Onboard_date: timestamp (nullable = true)\n",
      " |-- Location: string (nullable = true)\n",
      " |-- Company: string (nullable = true)\n",
      " |-- Churn: integer (nullable = true)\n",
      "\n"
     ]
    }
   ],
   "source": [
    "df.printSchema() # Data schema"
   ]
  },
  {
   "cell_type": "code",
   "execution_count": 4,
   "metadata": {},
   "outputs": [
    {
     "data": {
      "text/plain": [
       "['Names',\n",
       " 'Age',\n",
       " 'Total_Purchase',\n",
       " 'Account_Manager',\n",
       " 'Years',\n",
       " 'Num_Sites',\n",
       " 'Onboard_date',\n",
       " 'Location',\n",
       " 'Company',\n",
       " 'Churn']"
      ]
     },
     "execution_count": 4,
     "metadata": {},
     "output_type": "execute_result"
    }
   ],
   "source": [
    "df.columns"
   ]
  },
  {
   "cell_type": "code",
   "execution_count": 5,
   "metadata": {},
   "outputs": [
    {
     "name": "stdout",
     "output_type": "stream",
     "text": [
      "+----------------+----+--------------+---------------+-----+---------+-------------------+--------------------+--------------------+-----+\n",
      "|           Names| Age|Total_Purchase|Account_Manager|Years|Num_Sites|       Onboard_date|            Location|             Company|Churn|\n",
      "+----------------+----+--------------+---------------+-----+---------+-------------------+--------------------+--------------------+-----+\n",
      "|Cameron Williams|42.0|       11066.8|              0| 7.22|      8.0|2013-08-30 07:00:40|10265 Elizabeth M...|          Harvey LLC|    1|\n",
      "|   Kevin Mueller|41.0|      11916.22|              0|  6.5|     11.0|2013-08-13 00:38:46|6157 Frank Garden...|          Wilson PLC|    1|\n",
      "|     Eric Lozano|38.0|      12884.75|              0| 6.67|     12.0|2016-06-29 06:20:07|1331 Keith Court ...|Miller, Johnson a...|    1|\n",
      "|   Phillip White|42.0|       8010.76|              0| 6.71|     10.0|2014-04-22 12:43:12|13120 Daniel Moun...|           Smith Inc|    1|\n",
      "|  Cynthia Norton|37.0|       9191.58|              0| 5.56|      9.0|2016-01-19 15:31:15|765 Tricia Row Ka...|          Love-Jones|    1|\n",
      "+----------------+----+--------------+---------------+-----+---------+-------------------+--------------------+--------------------+-----+\n",
      "only showing top 5 rows\n",
      "\n"
     ]
    }
   ],
   "source": [
    "df.show(5)"
   ]
  },
  {
   "cell_type": "code",
   "execution_count": 6,
   "metadata": {},
   "outputs": [],
   "source": [
    "from pyspark.ml.feature import VectorAssembler"
   ]
  },
  {
   "cell_type": "code",
   "execution_count": 7,
   "metadata": {},
   "outputs": [],
   "source": [
    "# Changes important features into single feature\n",
    "assembler = VectorAssembler(inputCols=[\"Age\", \"Total_Purchase\",\"Account_Manager\",\n",
    "                                      \"Years\", \"Num_Sites\"], outputCol=\"features\")"
   ]
  },
  {
   "cell_type": "code",
   "execution_count": 8,
   "metadata": {},
   "outputs": [],
   "source": [
    "output = assembler.transform(df)"
   ]
  },
  {
   "cell_type": "code",
   "execution_count": 9,
   "metadata": {},
   "outputs": [
    {
     "name": "stdout",
     "output_type": "stream",
     "text": [
      "+--------------------+-----+\n",
      "|            features|churn|\n",
      "+--------------------+-----+\n",
      "|[42.0,11066.8,0.0...|    1|\n",
      "|[41.0,11916.22,0....|    1|\n",
      "|[38.0,12884.75,0....|    1|\n",
      "|[42.0,8010.76,0.0...|    1|\n",
      "|[37.0,9191.58,0.0...|    1|\n",
      "|[48.0,10356.02,0....|    1|\n",
      "|[44.0,11331.58,1....|    1|\n",
      "|[32.0,9885.12,1.0...|    1|\n",
      "|[43.0,14062.6,1.0...|    1|\n",
      "|[40.0,8066.94,1.0...|    1|\n",
      "|[30.0,11575.37,1....|    1|\n",
      "|[45.0,8771.02,1.0...|    1|\n",
      "|[45.0,8988.67,1.0...|    1|\n",
      "|[40.0,8283.32,1.0...|    1|\n",
      "|[41.0,6569.87,1.0...|    1|\n",
      "|[38.0,10494.82,1....|    1|\n",
      "|[45.0,8213.41,1.0...|    1|\n",
      "|[43.0,11226.88,0....|    1|\n",
      "|[53.0,5515.09,0.0...|    1|\n",
      "|[46.0,8046.4,1.0,...|    1|\n",
      "+--------------------+-----+\n",
      "only showing top 20 rows\n",
      "\n"
     ]
    }
   ],
   "source": [
    "final_data = output.select(\"features\", \"churn\")\n",
    "final_data.show()"
   ]
  },
  {
   "cell_type": "markdown",
   "metadata": {},
   "source": [
    "#### Train Test Split"
   ]
  },
  {
   "cell_type": "code",
   "execution_count": 10,
   "metadata": {},
   "outputs": [],
   "source": [
    "# Split the data\n",
    "train_chrun, test_chrun = final_data.randomSplit([0.7,0.3])"
   ]
  },
  {
   "cell_type": "code",
   "execution_count": 11,
   "metadata": {},
   "outputs": [],
   "source": [
    "from pyspark.ml.classification import LogisticRegression"
   ]
  },
  {
   "cell_type": "code",
   "execution_count": 12,
   "metadata": {},
   "outputs": [],
   "source": [
    "lr_chrun = LogisticRegression(labelCol='churn', featuresCol='features')\n",
    "fitted_chrun_model = lr_chrun.fit(train_chrun) # train on training data"
   ]
  },
  {
   "cell_type": "code",
   "execution_count": 13,
   "metadata": {},
   "outputs": [],
   "source": [
    "# Training data summary\n",
    "training_summary = fitted_chrun_model.summary"
   ]
  },
  {
   "cell_type": "code",
   "execution_count": 14,
   "metadata": {},
   "outputs": [
    {
     "name": "stdout",
     "output_type": "stream",
     "text": [
      "+--------------------+-----+--------------------+--------------------+----------+\n",
      "|            features|churn|       rawPrediction|         probability|prediction|\n",
      "+--------------------+-----+--------------------+--------------------+----------+\n",
      "|[26.0,8939.61,0.0...|  0.0|[6.30325761966255...|[0.99817301146911...|       0.0|\n",
      "|[28.0,9090.43,1.0...|  0.0|[1.61887563357416...|[0.83464000756161...|       0.0|\n",
      "|[28.0,11128.95,1....|  0.0|[4.30875974376663...|[0.98672828650509...|       0.0|\n",
      "|[28.0,11204.23,0....|  0.0|[1.76079283942151...|[0.85330892993094...|       0.0|\n",
      "|[28.0,11245.38,0....|  0.0|[3.70197773353910...|[0.97591950033795...|       0.0|\n",
      "|[29.0,5900.78,1.0...|  0.0|[4.19780832907963...|[0.98519403292242...|       0.0|\n",
      "|[29.0,9617.59,0.0...|  0.0|[4.38699234555641...|[0.98771472281733...|       0.0|\n",
      "|[29.0,10203.18,1....|  0.0|[3.90199467866712...|[0.98019844699090...|       0.0|\n",
      "|[29.0,11274.46,1....|  0.0|[4.63256417969285...|[0.99036397816645...|       0.0|\n",
      "|[29.0,13240.01,1....|  0.0|[6.89934711130620...|[0.99899257231841...|       0.0|\n",
      "|[29.0,13255.05,1....|  0.0|[4.30825344281993...|[0.98672165456883...|       0.0|\n",
      "|[30.0,6744.87,0.0...|  0.0|[3.41992757956136...|[0.96832155020471...|       0.0|\n",
      "|[30.0,8403.78,1.0...|  0.0|[6.05696991917692...|[0.99766398470661...|       0.0|\n",
      "|[30.0,8677.28,1.0...|  0.0|[4.28929748139949...|[0.98647098775971...|       0.0|\n",
      "|[30.0,8874.83,0.0...|  0.0|[3.11245031583992...|[0.95740339696118...|       0.0|\n",
      "|[30.0,10744.14,1....|  1.0|[1.87998052292825...|[0.86760888926533...|       0.0|\n",
      "|[30.0,10960.52,1....|  0.0|[2.53573023070720...|[0.92660899028494...|       0.0|\n",
      "|[30.0,11575.37,1....|  1.0|[4.13268466704045...|[0.98421345286598...|       0.0|\n",
      "|[30.0,12788.37,0....|  0.0|[2.45556560157826...|[0.92096750101535...|       0.0|\n",
      "|[30.0,13473.35,0....|  0.0|[2.69118446864976...|[0.93650445117408...|       0.0|\n",
      "+--------------------+-----+--------------------+--------------------+----------+\n",
      "only showing top 20 rows\n",
      "\n"
     ]
    }
   ],
   "source": [
    "# Training data summary\n",
    "training_summary.predictions.show(20)"
   ]
  },
  {
   "cell_type": "code",
   "execution_count": 15,
   "metadata": {},
   "outputs": [
    {
     "data": {
      "text/plain": [
       "0.9014308426073132"
      ]
     },
     "execution_count": 15,
     "metadata": {},
     "output_type": "execute_result"
    }
   ],
   "source": [
    "training_summary.accuracy"
   ]
  },
  {
   "cell_type": "code",
   "execution_count": 16,
   "metadata": {},
   "outputs": [
    {
     "data": {
      "text/plain": [
       "(0.9045497185741093,\n",
       " [0.9212880143112702, 0.7428571428571429],\n",
       " [0.9662288930581614, 0.5416666666666666])"
      ]
     },
     "execution_count": 16,
     "metadata": {},
     "output_type": "execute_result"
    }
   ],
   "source": [
    "training_summary.areaUnderROC, training_summary.precisionByLabel, training_summary.recallByLabel"
   ]
  },
  {
   "cell_type": "code",
   "execution_count": 17,
   "metadata": {},
   "outputs": [
    {
     "data": {
      "text/plain": [
       "[Row(threshold=0.0011722760236683913, recall=1.0),\n",
       " Row(threshold=0.0009831207555033097, recall=1.0),\n",
       " Row(threshold=0.000680805625146748, recall=1.0),\n",
       " Row(threshold=0.00038650598081058367, recall=1.0),\n",
       " Row(threshold=4.580928904338428e-05, recall=1.0)]"
      ]
     },
     "execution_count": 17,
     "metadata": {},
     "output_type": "execute_result"
    }
   ],
   "source": [
    "training_summary.recallByThreshold.collect()[-5:]"
   ]
  },
  {
   "cell_type": "code",
   "execution_count": 18,
   "metadata": {},
   "outputs": [],
   "source": [
    "# Model Evaluation on test dataset\n",
    "from pyspark.ml.evaluation import BinaryClassificationEvaluator"
   ]
  },
  {
   "cell_type": "code",
   "execution_count": 19,
   "metadata": {},
   "outputs": [
    {
     "name": "stdout",
     "output_type": "stream",
     "text": [
      "+--------------------+-----+\n",
      "|            features|churn|\n",
      "+--------------------+-----+\n",
      "|[22.0,11254.38,1....|    0|\n",
      "|[25.0,9672.03,0.0...|    0|\n",
      "|[26.0,8787.39,1.0...|    1|\n",
      "|[27.0,8628.8,1.0,...|    0|\n",
      "|[28.0,8670.98,0.0...|    0|\n",
      "|[29.0,8688.17,1.0...|    1|\n",
      "|[29.0,9378.24,0.0...|    0|\n",
      "|[29.0,12711.15,0....|    0|\n",
      "|[30.0,7960.64,1.0...|    1|\n",
      "|[30.0,10183.98,1....|    0|\n",
      "|[31.0,7073.61,0.0...|    0|\n",
      "|[31.0,8688.21,0.0...|    0|\n",
      "|[31.0,8829.83,1.0...|    0|\n",
      "|[31.0,11297.57,1....|    1|\n",
      "|[31.0,11743.24,0....|    0|\n",
      "|[32.0,5756.12,0.0...|    0|\n",
      "|[32.0,8617.98,1.0...|    1|\n",
      "|[32.0,9885.12,1.0...|    1|\n",
      "|[32.0,12142.99,0....|    0|\n",
      "|[32.0,13630.93,0....|    0|\n",
      "+--------------------+-----+\n",
      "only showing top 20 rows\n",
      "\n"
     ]
    }
   ],
   "source": [
    "test_chrun.show()"
   ]
  },
  {
   "cell_type": "code",
   "execution_count": 20,
   "metadata": {},
   "outputs": [
    {
     "name": "stdout",
     "output_type": "stream",
     "text": [
      "+-----+-----+\n",
      "|churn|count|\n",
      "+-----+-----+\n",
      "|    1|  150|\n",
      "|    0|  750|\n",
      "+-----+-----+\n",
      "\n"
     ]
    }
   ],
   "source": [
    "# class ensemble problem\n",
    "final_data.groupBy(\"churn\").count().show()"
   ]
  },
  {
   "cell_type": "code",
   "execution_count": 21,
   "metadata": {},
   "outputs": [
    {
     "data": {
      "text/plain": [
       "271"
      ]
     },
     "execution_count": 21,
     "metadata": {},
     "output_type": "execute_result"
    }
   ],
   "source": [
    "test_chrun.count()"
   ]
  },
  {
   "cell_type": "code",
   "execution_count": 22,
   "metadata": {},
   "outputs": [],
   "source": [
    "pred_and_labels = fitted_chrun_model.evaluate(test_chrun)"
   ]
  },
  {
   "cell_type": "code",
   "execution_count": 23,
   "metadata": {},
   "outputs": [
    {
     "name": "stdout",
     "output_type": "stream",
     "text": [
      "+--------------------+-----+--------------------+--------------------+----------+\n",
      "|            features|churn|       rawPrediction|         probability|prediction|\n",
      "+--------------------+-----+--------------------+--------------------+----------+\n",
      "|[22.0,11254.38,1....|    0|[4.70781597339279...|[0.99105624684581...|       0.0|\n",
      "|[25.0,9672.03,0.0...|    0|[4.59509253923913...|[0.98999972961851...|       0.0|\n",
      "|[26.0,8787.39,1.0...|    1|[0.70191352898745...|[0.66861188955407...|       0.0|\n",
      "|[27.0,8628.8,1.0,...|    0|[5.55972131896505...|[0.99616491536915...|       0.0|\n",
      "|[28.0,8670.98,0.0...|    0|[7.72139023797288...|[0.99955695241738...|       0.0|\n",
      "|[29.0,8688.17,1.0...|    1|[2.81229360954136...|[0.94333654357226...|       0.0|\n",
      "|[29.0,9378.24,0.0...|    0|[4.70503846244534...|[0.99103159404016...|       0.0|\n",
      "|[29.0,12711.15,0....|    0|[5.34902811017450...|[0.99526971402916...|       0.0|\n",
      "|[30.0,7960.64,1.0...|    1|[3.22335011836388...|[0.96170358969767...|       0.0|\n",
      "|[30.0,10183.98,1....|    0|[3.01650071808284...|[0.95331403189888...|       0.0|\n",
      "|[31.0,7073.61,0.0...|    0|[3.02963070938461...|[0.95389493450936...|       0.0|\n",
      "|[31.0,8688.21,0.0...|    0|[6.5803317613831,...|[0.99861453324484...|       0.0|\n",
      "|[31.0,8829.83,1.0...|    0|[4.56420767365099...|[0.98968928784794...|       0.0|\n",
      "|[31.0,11297.57,1....|    1|[1.11245368915928...|[0.75258627189518...|       0.0|\n",
      "|[31.0,11743.24,0....|    0|[6.73106675946361...|[0.99880816281264...|       0.0|\n",
      "|[32.0,5756.12,0.0...|    0|[4.13930474781142...|[0.98431598222360...|       0.0|\n",
      "|[32.0,8617.98,1.0...|    1|[1.17124827334528...|[0.76337057288216...|       0.0|\n",
      "|[32.0,9885.12,1.0...|    1|[1.93801177245685...|[0.87413355324288...|       0.0|\n",
      "|[32.0,12142.99,0....|    0|[5.61515974120119...|[0.99637098984400...|       0.0|\n",
      "|[32.0,13630.93,0....|    0|[2.28207307484015...|[0.90738141608192...|       0.0|\n",
      "+--------------------+-----+--------------------+--------------------+----------+\n",
      "only showing top 20 rows\n",
      "\n"
     ]
    }
   ],
   "source": [
    "pred_and_labels.predictions.show()"
   ]
  },
  {
   "cell_type": "markdown",
   "metadata": {},
   "source": [
    "#### using AUC"
   ]
  },
  {
   "cell_type": "code",
   "execution_count": 24,
   "metadata": {},
   "outputs": [],
   "source": [
    "churn_eval = BinaryClassificationEvaluator(rawPredictionCol= 'prediction', labelCol=\"churn\")"
   ]
  },
  {
   "cell_type": "code",
   "execution_count": 25,
   "metadata": {},
   "outputs": [],
   "source": [
    "auc = churn_eval.evaluate(pred_and_labels.predictions)"
   ]
  },
  {
   "cell_type": "code",
   "execution_count": 26,
   "metadata": {},
   "outputs": [
    {
     "data": {
      "text/plain": [
       "0.7431302270011948"
      ]
     },
     "execution_count": 26,
     "metadata": {},
     "output_type": "execute_result"
    }
   ],
   "source": [
    "auc"
   ]
  },
  {
   "cell_type": "markdown",
   "metadata": {},
   "source": [
    "### Prediction on brand new unlabeled data"
   ]
  },
  {
   "cell_type": "code",
   "execution_count": 27,
   "metadata": {},
   "outputs": [],
   "source": [
    "# all data feed into model\n",
    "final_lr_model = lr_chrun.fit(final_data)"
   ]
  },
  {
   "cell_type": "code",
   "execution_count": 28,
   "metadata": {},
   "outputs": [],
   "source": [
    "data = spark.read.csv(\"new_customers.csv\", inferSchema=True, header=True)"
   ]
  },
  {
   "cell_type": "code",
   "execution_count": 29,
   "metadata": {},
   "outputs": [
    {
     "name": "stdout",
     "output_type": "stream",
     "text": [
      "+-------+-------------+------------------+-----------------+------------------+-----------------+------------------+--------------------+----------------+\n",
      "|summary|        Names|               Age|   Total_Purchase|   Account_Manager|            Years|         Num_Sites|            Location|         Company|\n",
      "+-------+-------------+------------------+-----------------+------------------+-----------------+------------------+--------------------+----------------+\n",
      "|  count|            6|                 6|                6|                 6|                6|                 6|                   6|               6|\n",
      "|   mean|         null|35.166666666666664|7607.156666666667|0.8333333333333334|6.808333333333334|12.333333333333334|                null|            null|\n",
      "| stddev|         null| 15.71517313511584|4346.008232825459| 0.408248290463863|3.708737880555414|3.3862466931200785|                null|            null|\n",
      "|    min|Andrew Mccall|              22.0|            100.0|                 0|              1.0|               8.0|085 Austin Views ...|Barron-Robertson|\n",
      "|    max| Taylor Young|              65.0|         13147.71|                 1|             10.0|              15.0|Unit 0789 Box 073...|        Wood LLC|\n",
      "+-------+-------------+------------------+-----------------+------------------+-----------------+------------------+--------------------+----------------+\n",
      "\n"
     ]
    }
   ],
   "source": [
    "data.describe().show()"
   ]
  },
  {
   "cell_type": "code",
   "execution_count": 30,
   "metadata": {},
   "outputs": [
    {
     "name": "stdout",
     "output_type": "stream",
     "text": [
      "root\n",
      " |-- Names: string (nullable = true)\n",
      " |-- Age: double (nullable = true)\n",
      " |-- Total_Purchase: double (nullable = true)\n",
      " |-- Account_Manager: integer (nullable = true)\n",
      " |-- Years: double (nullable = true)\n",
      " |-- Num_Sites: double (nullable = true)\n",
      " |-- Onboard_date: timestamp (nullable = true)\n",
      " |-- Location: string (nullable = true)\n",
      " |-- Company: string (nullable = true)\n",
      "\n"
     ]
    }
   ],
   "source": [
    "data.printSchema()"
   ]
  },
  {
   "cell_type": "code",
   "execution_count": 31,
   "metadata": {},
   "outputs": [],
   "source": [
    "new_customer_data = assembler.transform(data)"
   ]
  },
  {
   "cell_type": "code",
   "execution_count": 32,
   "metadata": {},
   "outputs": [
    {
     "name": "stdout",
     "output_type": "stream",
     "text": [
      "root\n",
      " |-- Names: string (nullable = true)\n",
      " |-- Age: double (nullable = true)\n",
      " |-- Total_Purchase: double (nullable = true)\n",
      " |-- Account_Manager: integer (nullable = true)\n",
      " |-- Years: double (nullable = true)\n",
      " |-- Num_Sites: double (nullable = true)\n",
      " |-- Onboard_date: timestamp (nullable = true)\n",
      " |-- Location: string (nullable = true)\n",
      " |-- Company: string (nullable = true)\n",
      " |-- features: vector (nullable = true)\n",
      "\n"
     ]
    }
   ],
   "source": [
    "new_customer_data.printSchema()"
   ]
  },
  {
   "cell_type": "code",
   "execution_count": 33,
   "metadata": {},
   "outputs": [],
   "source": [
    "final_results = final_lr_model.transform(new_customer_data)"
   ]
  },
  {
   "cell_type": "code",
   "execution_count": 34,
   "metadata": {},
   "outputs": [
    {
     "name": "stdout",
     "output_type": "stream",
     "text": [
      "+----------------+----------+\n",
      "|         Company|prediction|\n",
      "+----------------+----------+\n",
      "|        King Ltd|       0.0|\n",
      "|   Cannon-Benson|       1.0|\n",
      "|Barron-Robertson|       1.0|\n",
      "|   Sexton-Golden|       1.0|\n",
      "|        Wood LLC|       0.0|\n",
      "|   Parks-Robbins|       1.0|\n",
      "+----------------+----------+\n",
      "\n"
     ]
    }
   ],
   "source": [
    "final_results.select(\"Company\",\"prediction\").show()"
   ]
  }
 ],
 "metadata": {
  "kernelspec": {
   "display_name": "Python 3",
   "language": "python",
   "name": "python3"
  },
  "language_info": {
   "codemirror_mode": {
    "name": "ipython",
    "version": 3
   },
   "file_extension": ".py",
   "mimetype": "text/x-python",
   "name": "python",
   "nbconvert_exporter": "python",
   "pygments_lexer": "ipython3",
   "version": "3.7.3"
  }
 },
 "nbformat": 4,
 "nbformat_minor": 2
}
