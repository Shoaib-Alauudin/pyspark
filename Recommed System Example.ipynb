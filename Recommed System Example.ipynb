{
 "cells": [
  {
   "cell_type": "code",
   "execution_count": 1,
   "metadata": {},
   "outputs": [],
   "source": [
    "from pyspark.sql import SparkSession\n",
    "spark = SparkSession.builder.appName(\"recommend\").getOrCreate()"
   ]
  },
  {
   "cell_type": "code",
   "execution_count": 2,
   "metadata": {},
   "outputs": [],
   "source": [
    "from pyspark.ml.recommendation import ALS"
   ]
  },
  {
   "cell_type": "code",
   "execution_count": 3,
   "metadata": {},
   "outputs": [],
   "source": [
    "from pyspark.ml.evaluation import RegressionEvaluator"
   ]
  },
  {
   "cell_type": "code",
   "execution_count": 6,
   "metadata": {},
   "outputs": [],
   "source": [
    "data = spark.read.csv(\"/home/shoaibalauddin/spark-2.4.4-bin-hadoop2.7/python/pyspark_notebooks/dataset/recommend/movielens_ratings.csv\", inferSchema=True, header=True)"
   ]
  },
  {
   "cell_type": "code",
   "execution_count": 7,
   "metadata": {},
   "outputs": [
    {
     "name": "stdout",
     "output_type": "stream",
     "text": [
      "root\n",
      " |-- movieId: integer (nullable = true)\n",
      " |-- rating: double (nullable = true)\n",
      " |-- userId: integer (nullable = true)\n",
      "\n"
     ]
    }
   ],
   "source": [
    "data.printSchema()"
   ]
  },
  {
   "cell_type": "code",
   "execution_count": 9,
   "metadata": {},
   "outputs": [
    {
     "name": "stdout",
     "output_type": "stream",
     "text": [
      "+-------+------+------+\n",
      "|movieId|rating|userId|\n",
      "+-------+------+------+\n",
      "|      2|   3.0|     0|\n",
      "|      3|   1.0|     0|\n",
      "|      5|   2.0|     0|\n",
      "|      9|   4.0|     0|\n",
      "|     11|   1.0|     0|\n",
      "|     12|   2.0|     0|\n",
      "|     15|   1.0|     0|\n",
      "|     17|   1.0|     0|\n",
      "|     19|   1.0|     0|\n",
      "|     21|   1.0|     0|\n",
      "|     23|   1.0|     0|\n",
      "|     26|   3.0|     0|\n",
      "|     27|   1.0|     0|\n",
      "|     28|   1.0|     0|\n",
      "|     29|   1.0|     0|\n",
      "|     30|   1.0|     0|\n",
      "|     31|   1.0|     0|\n",
      "|     34|   1.0|     0|\n",
      "|     37|   1.0|     0|\n",
      "|     41|   2.0|     0|\n",
      "+-------+------+------+\n",
      "only showing top 20 rows\n",
      "\n"
     ]
    },
    {
     "data": {
      "text/plain": [
       "(None, 1501)"
      ]
     },
     "execution_count": 9,
     "metadata": {},
     "output_type": "execute_result"
    }
   ],
   "source": [
    "data.show(), data.count()"
   ]
  },
  {
   "cell_type": "code",
   "execution_count": 10,
   "metadata": {},
   "outputs": [
    {
     "name": "stdout",
     "output_type": "stream",
     "text": [
      "+-------+------------------+------------------+------------------+\n",
      "|summary|           movieId|            rating|            userId|\n",
      "+-------+------------------+------------------+------------------+\n",
      "|  count|              1501|              1501|              1501|\n",
      "|   mean| 49.40572951365756|1.7741505662891406|14.383744170552964|\n",
      "| stddev|28.937034065088994| 1.187276166124803| 8.591040424293272|\n",
      "|    min|                 0|               1.0|                 0|\n",
      "|    max|                99|               5.0|                29|\n",
      "+-------+------------------+------------------+------------------+\n",
      "\n"
     ]
    }
   ],
   "source": [
    "data.describe().show()"
   ]
  },
  {
   "cell_type": "code",
   "execution_count": 11,
   "metadata": {},
   "outputs": [],
   "source": [
    "train_data, test_data = data.randomSplit([0.8,0.2])"
   ]
  },
  {
   "cell_type": "code",
   "execution_count": 12,
   "metadata": {},
   "outputs": [],
   "source": [
    "als = ALS(maxIter=5, regParam=0.01, userCol=\"userId\", itemCol=\"movieId\", ratingCol='rating')"
   ]
  },
  {
   "cell_type": "code",
   "execution_count": 13,
   "metadata": {},
   "outputs": [],
   "source": [
    "model = als.fit(train_data)"
   ]
  },
  {
   "cell_type": "code",
   "execution_count": 14,
   "metadata": {},
   "outputs": [],
   "source": [
    "predictions = model.transform(test_data)"
   ]
  },
  {
   "cell_type": "code",
   "execution_count": 15,
   "metadata": {},
   "outputs": [
    {
     "name": "stdout",
     "output_type": "stream",
     "text": [
      "+-------+------+------+-----------+\n",
      "|movieId|rating|userId| prediction|\n",
      "+-------+------+------+-----------+\n",
      "|     31|   1.0|    26| -0.6401658|\n",
      "|     31|   1.0|    13|    2.08215|\n",
      "|     31|   3.0|     7| 0.58454955|\n",
      "|     31|   3.0|    14|  1.1053808|\n",
      "|     31|   1.0|    18|  0.9574346|\n",
      "|     85|   1.0|     5| 0.96373326|\n",
      "|     85|   3.0|    21|  1.9276595|\n",
      "|     85|   1.0|     2|  4.2325606|\n",
      "|     65|   1.0|    28|  1.2167697|\n",
      "|     65|   2.0|     3| -1.8824242|\n",
      "|     65|   2.0|    15| 0.72068304|\n",
      "|     65|   5.0|    23|0.044882715|\n",
      "|     53|   1.0|     6|  1.9148036|\n",
      "|     53|   5.0|    21|  3.8619025|\n",
      "|     53|   3.0|    14|  3.3792882|\n",
      "|     78|   1.0|    13| 0.91000825|\n",
      "|     78|   1.0|    24|  0.7730464|\n",
      "|     78|   1.0|    11|  0.6872341|\n",
      "|     34|   1.0|    15|   2.479125|\n",
      "|     34|   3.0|    25|  2.8325725|\n",
      "+-------+------+------+-----------+\n",
      "only showing top 20 rows\n",
      "\n"
     ]
    }
   ],
   "source": [
    "predictions.show()"
   ]
  },
  {
   "cell_type": "code",
   "execution_count": 16,
   "metadata": {},
   "outputs": [],
   "source": [
    "evaluator = RegressionEvaluator(metricName='rmse', labelCol='rating', predictionCol='prediction')"
   ]
  },
  {
   "cell_type": "code",
   "execution_count": 17,
   "metadata": {},
   "outputs": [],
   "source": [
    "rmse = evaluator.evaluate(predictions)"
   ]
  },
  {
   "cell_type": "code",
   "execution_count": 18,
   "metadata": {},
   "outputs": [
    {
     "name": "stdout",
     "output_type": "stream",
     "text": [
      "RMSE : 1.8571418024597104\n"
     ]
    }
   ],
   "source": [
    "print(\"RMSE :\", rmse)"
   ]
  },
  {
   "cell_type": "code",
   "execution_count": 31,
   "metadata": {},
   "outputs": [],
   "source": [
    "single_user = test_data.filter(test_data[\"userId\"] == 11).select([\"movieId\", \"userId\", \"rating\"])"
   ]
  },
  {
   "cell_type": "code",
   "execution_count": 32,
   "metadata": {},
   "outputs": [
    {
     "data": {
      "text/plain": [
       "pyspark.sql.dataframe.DataFrame"
      ]
     },
     "execution_count": 32,
     "metadata": {},
     "output_type": "execute_result"
    }
   ],
   "source": [
    "type(single_user)"
   ]
  },
  {
   "cell_type": "code",
   "execution_count": 33,
   "metadata": {},
   "outputs": [
    {
     "name": "stdout",
     "output_type": "stream",
     "text": [
      "+-------+------+------+\n",
      "|movieId|userId|rating|\n",
      "+-------+------+------+\n",
      "|      6|    11|   2.0|\n",
      "|     10|    11|   1.0|\n",
      "|     11|    11|   1.0|\n",
      "|     12|    11|   1.0|\n",
      "|     13|    11|   4.0|\n",
      "|     16|    11|   1.0|\n",
      "|     19|    11|   4.0|\n",
      "|     21|    11|   1.0|\n",
      "|     25|    11|   1.0|\n",
      "|     27|    11|   5.0|\n",
      "|     36|    11|   2.0|\n",
      "|     38|    11|   4.0|\n",
      "|     59|    11|   1.0|\n",
      "|     64|    11|   1.0|\n",
      "|     76|    11|   1.0|\n",
      "|     78|    11|   1.0|\n",
      "|     80|    11|   3.0|\n",
      "|     82|    11|   1.0|\n",
      "|     86|    11|   1.0|\n",
      "|     97|    11|   3.0|\n",
      "+-------+------+------+\n",
      "\n"
     ]
    }
   ],
   "source": [
    "single_user.show()"
   ]
  },
  {
   "cell_type": "code",
   "execution_count": 36,
   "metadata": {},
   "outputs": [],
   "source": [
    "recommendations = model.transform(single_user)"
   ]
  },
  {
   "cell_type": "code",
   "execution_count": 37,
   "metadata": {},
   "outputs": [
    {
     "name": "stdout",
     "output_type": "stream",
     "text": [
      "+-------+------+------+------------+\n",
      "|movieId|userId|rating|  prediction|\n",
      "+-------+------+------+------------+\n",
      "|     78|    11|   1.0|   0.6872341|\n",
      "|     76|    11|   1.0|  0.33660057|\n",
      "|     27|    11|   5.0|    4.273672|\n",
      "|     12|    11|   1.0|   1.0750368|\n",
      "|     13|    11|   4.0|   1.9275416|\n",
      "|      6|    11|   2.0|   2.4323409|\n",
      "|     16|    11|   1.0|   1.2606089|\n",
      "|     86|    11|   1.0|-0.021483898|\n",
      "|     19|    11|   4.0|   1.2914331|\n",
      "|     64|    11|   1.0|    0.917824|\n",
      "|     59|    11|   1.0|   1.9290086|\n",
      "|     97|    11|   3.0|    1.133211|\n",
      "|     10|    11|   1.0|  0.61268187|\n",
      "|     38|    11|   4.0| -0.46780372|\n",
      "|     82|    11|   1.0|   0.9075024|\n",
      "|     80|    11|   3.0|   0.9119985|\n",
      "|     25|    11|   1.0|  0.90820533|\n",
      "|     21|    11|   1.0| -0.99104637|\n",
      "|     11|    11|   1.0| 0.058502376|\n",
      "|     36|    11|   2.0|   1.2019975|\n",
      "+-------+------+------+------------+\n",
      "\n"
     ]
    }
   ],
   "source": [
    "recommendations.show()"
   ]
  },
  {
   "cell_type": "code",
   "execution_count": 38,
   "metadata": {},
   "outputs": [
    {
     "name": "stdout",
     "output_type": "stream",
     "text": [
      "+-------+------+------+------------+\n",
      "|movieId|userId|rating|  prediction|\n",
      "+-------+------+------+------------+\n",
      "|     27|    11|   5.0|    4.273672|\n",
      "|      6|    11|   2.0|   2.4323409|\n",
      "|     59|    11|   1.0|   1.9290086|\n",
      "|     13|    11|   4.0|   1.9275416|\n",
      "|     19|    11|   4.0|   1.2914331|\n",
      "|     16|    11|   1.0|   1.2606089|\n",
      "|     36|    11|   2.0|   1.2019975|\n",
      "|     97|    11|   3.0|    1.133211|\n",
      "|     12|    11|   1.0|   1.0750368|\n",
      "|     64|    11|   1.0|    0.917824|\n",
      "|     80|    11|   3.0|   0.9119985|\n",
      "|     25|    11|   1.0|  0.90820533|\n",
      "|     82|    11|   1.0|   0.9075024|\n",
      "|     78|    11|   1.0|   0.6872341|\n",
      "|     10|    11|   1.0|  0.61268187|\n",
      "|     76|    11|   1.0|  0.33660057|\n",
      "|     11|    11|   1.0| 0.058502376|\n",
      "|     86|    11|   1.0|-0.021483898|\n",
      "|     38|    11|   4.0| -0.46780372|\n",
      "|     21|    11|   1.0| -0.99104637|\n",
      "+-------+------+------+------------+\n",
      "\n"
     ]
    }
   ],
   "source": [
    "recommendations.orderBy(\"prediction\", ascending=False).show()"
   ]
  }
 ],
 "metadata": {
  "kernelspec": {
   "display_name": "Python 3",
   "language": "python",
   "name": "python3"
  },
  "language_info": {
   "codemirror_mode": {
    "name": "ipython",
    "version": 3
   },
   "file_extension": ".py",
   "mimetype": "text/x-python",
   "name": "python",
   "nbconvert_exporter": "python",
   "pygments_lexer": "ipython3",
   "version": "3.7.3"
  }
 },
 "nbformat": 4,
 "nbformat_minor": 2
}
