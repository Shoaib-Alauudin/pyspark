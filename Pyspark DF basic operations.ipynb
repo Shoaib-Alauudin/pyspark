{
 "cells": [
  {
   "cell_type": "code",
   "execution_count": 1,
   "metadata": {},
   "outputs": [],
   "source": [
    "from pyspark.sql import SparkSession"
   ]
  },
  {
   "cell_type": "code",
   "execution_count": 2,
   "metadata": {},
   "outputs": [],
   "source": [
    "spark = SparkSession.builder.appName(\"ops\").getOrCreate()"
   ]
  },
  {
   "cell_type": "code",
   "execution_count": 8,
   "metadata": {},
   "outputs": [],
   "source": [
    "df = spark.read.csv(\"dataset/dataFrame/appl_stock.csv\", inferSchema=True, header=True)"
   ]
  },
  {
   "cell_type": "code",
   "execution_count": 9,
   "metadata": {},
   "outputs": [
    {
     "data": {
      "text/plain": [
       "['Date', 'Open', 'High', 'Low', 'Close', 'Volume', 'Adj Close']"
      ]
     },
     "execution_count": 9,
     "metadata": {},
     "output_type": "execute_result"
    }
   ],
   "source": [
    "df.columns"
   ]
  },
  {
   "cell_type": "code",
   "execution_count": 10,
   "metadata": {},
   "outputs": [
    {
     "name": "stdout",
     "output_type": "stream",
     "text": [
      "root\n",
      " |-- Date: timestamp (nullable = true)\n",
      " |-- Open: double (nullable = true)\n",
      " |-- High: double (nullable = true)\n",
      " |-- Low: double (nullable = true)\n",
      " |-- Close: double (nullable = true)\n",
      " |-- Volume: integer (nullable = true)\n",
      " |-- Adj Close: double (nullable = true)\n",
      "\n"
     ]
    }
   ],
   "source": [
    "df.printSchema()"
   ]
  },
  {
   "cell_type": "code",
   "execution_count": 16,
   "metadata": {},
   "outputs": [
    {
     "data": {
      "text/plain": [
       "Row(Date=datetime.datetime(2010, 1, 4, 0, 0), Open=213.429998, High=214.499996, Low=212.38000099999996, Close=214.009998, Volume=123432400, Adj Close=27.727039)"
      ]
     },
     "execution_count": 16,
     "metadata": {},
     "output_type": "execute_result"
    }
   ],
   "source": [
    "df.select(['Date', 'Open', 'High', 'Low', 'Close', 'Volume', 'Adj Close']).head()"
   ]
  },
  {
   "cell_type": "code",
   "execution_count": 21,
   "metadata": {},
   "outputs": [
    {
     "name": "stdout",
     "output_type": "stream",
     "text": [
      "+-------------------+----------+------------------+----------+------------------+---------+------------------+\n",
      "|               Date|      Open|              High|       Low|             Close|   Volume|         Adj Close|\n",
      "+-------------------+----------+------------------+----------+------------------+---------+------------------+\n",
      "|2010-02-12 00:00:00|198.109995|        201.639996|195.500002|200.37999299999998|163867200|25.961142000000002|\n",
      "|2010-02-22 00:00:00|202.339998|        202.500002|199.190006|        200.419994| 97640900|         25.966324|\n",
      "|2010-02-24 00:00:00|198.229998|201.44000400000002|197.840002|            200.66|115141600|         25.997419|\n",
      "+-------------------+----------+------------------+----------+------------------+---------+------------------+\n",
      "\n"
     ]
    }
   ],
   "source": [
    "df.filter(\"Close >= 200 and Close <= 201\").show()"
   ]
  },
  {
   "cell_type": "code",
   "execution_count": 25,
   "metadata": {},
   "outputs": [
    {
     "name": "stdout",
     "output_type": "stream",
     "text": [
      "+------------------+-------------------+\n",
      "|             Close|               Date|\n",
      "+------------------+-------------------+\n",
      "|200.37999299999998|2010-02-12 00:00:00|\n",
      "|        200.419994|2010-02-22 00:00:00|\n",
      "|            200.66|2010-02-24 00:00:00|\n",
      "+------------------+-------------------+\n",
      "\n"
     ]
    }
   ],
   "source": [
    "df.filter(\"Close >= 200 and Close <= 201\").select([\"Close\", \"Date\"]).show()"
   ]
  },
  {
   "cell_type": "code",
   "execution_count": 27,
   "metadata": {},
   "outputs": [
    {
     "name": "stdout",
     "output_type": "stream",
     "text": [
      "+-------------------+----------+------------------+----------+------------------+---------+------------------+\n",
      "|               Date|      Open|              High|       Low|             Close|   Volume|         Adj Close|\n",
      "+-------------------+----------+------------------+----------+------------------+---------+------------------+\n",
      "|2010-02-12 00:00:00|198.109995|        201.639996|195.500002|200.37999299999998|163867200|25.961142000000002|\n",
      "|2010-02-22 00:00:00|202.339998|        202.500002|199.190006|        200.419994| 97640900|         25.966324|\n",
      "|2010-02-24 00:00:00|198.229998|201.44000400000002|197.840002|            200.66|115141600|         25.997419|\n",
      "+-------------------+----------+------------------+----------+------------------+---------+------------------+\n",
      "\n"
     ]
    }
   ],
   "source": [
    "df.filter((df[\"Close\"] <= 201) & (df[\"Close\"] >= 200)).show()"
   ]
  },
  {
   "cell_type": "code",
   "execution_count": 29,
   "metadata": {},
   "outputs": [
    {
     "name": "stdout",
     "output_type": "stream",
     "text": [
      "+------------------+-------------------+\n",
      "|             Close|               Date|\n",
      "+------------------+-------------------+\n",
      "|200.37999299999998|2010-02-12 00:00:00|\n",
      "|        200.419994|2010-02-22 00:00:00|\n",
      "|            200.66|2010-02-24 00:00:00|\n",
      "+------------------+-------------------+\n",
      "\n"
     ]
    }
   ],
   "source": [
    "df.filter((df[\"Close\"] >= 200) & (df[\"Close\"] <= 201)).select([\"Close\", \"Date\"]).show()"
   ]
  },
  {
   "cell_type": "code",
   "execution_count": 32,
   "metadata": {},
   "outputs": [
    {
     "data": {
      "text/plain": [
       "[Row(Close=200.37999299999998, Date=datetime.datetime(2010, 2, 12, 0, 0)),\n",
       " Row(Close=200.419994, Date=datetime.datetime(2010, 2, 22, 0, 0)),\n",
       " Row(Close=200.66, Date=datetime.datetime(2010, 2, 24, 0, 0))]"
      ]
     },
     "execution_count": 32,
     "metadata": {},
     "output_type": "execute_result"
    }
   ],
   "source": [
    "# return list of reuslt instead of formatted result\n",
    "result = df.filter((df[\"Close\"] >= 200) & (df[\"Close\"] <= 201)).select([\"Close\", \"Date\"]).collect()\n",
    "result"
   ]
  },
  {
   "cell_type": "code",
   "execution_count": 51,
   "metadata": {},
   "outputs": [
    {
     "data": {
      "text/plain": [
       "{'Close': 200.37999299999998, 'Date': datetime.datetime(2010, 2, 12, 0, 0)}"
      ]
     },
     "execution_count": 51,
     "metadata": {},
     "output_type": "execute_result"
    }
   ],
   "source": [
    "result[0].asDict()"
   ]
  }
 ],
 "metadata": {
  "kernelspec": {
   "display_name": "Python 3",
   "language": "python",
   "name": "python3"
  },
  "language_info": {
   "codemirror_mode": {
    "name": "ipython",
    "version": 3
   },
   "file_extension": ".py",
   "mimetype": "text/x-python",
   "name": "python",
   "nbconvert_exporter": "python",
   "pygments_lexer": "ipython3",
   "version": "3.7.3"
  }
 },
 "nbformat": 4,
 "nbformat_minor": 2
}
