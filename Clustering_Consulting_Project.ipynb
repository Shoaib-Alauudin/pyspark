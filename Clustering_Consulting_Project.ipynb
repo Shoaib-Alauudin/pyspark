{
 "cells": [
  {
   "cell_type": "code",
   "execution_count": 1,
   "metadata": {},
   "outputs": [],
   "source": [
    "from pyspark.sql import SparkSession\n",
    "spark = SparkSession.builder.appName(\"cluster_project\").getOrCreate()"
   ]
  },
  {
   "cell_type": "code",
   "execution_count": 2,
   "metadata": {},
   "outputs": [],
   "source": [
    "data = spark.read.csv(\"dataset/kmeans/hack_data.csv\", inferSchema=True, header=True)"
   ]
  },
  {
   "cell_type": "code",
   "execution_count": 8,
   "metadata": {},
   "outputs": [
    {
     "name": "stdout",
     "output_type": "stream",
     "text": [
      "root\n",
      " |-- Session_Connection_Time: double (nullable = true)\n",
      " |-- Bytes Transferred: double (nullable = true)\n",
      " |-- Kali_Trace_Used: integer (nullable = true)\n",
      " |-- Servers_Corrupted: double (nullable = true)\n",
      " |-- Pages_Corrupted: double (nullable = true)\n",
      " |-- Location: string (nullable = true)\n",
      " |-- WPM_Typing_Speed: double (nullable = true)\n",
      "\n"
     ]
    }
   ],
   "source": [
    "data.printSchema()"
   ]
  },
  {
   "cell_type": "code",
   "execution_count": 10,
   "metadata": {},
   "outputs": [],
   "source": [
    "feat_cols = ['Session_Connection_Time', 'Bytes Transferred', 'Kali_Trace_Used',\n",
    "             'Servers_Corrupted', 'Pages_Corrupted','WPM_Typing_Speed']"
   ]
  },
  {
   "cell_type": "code",
   "execution_count": 4,
   "metadata": {},
   "outputs": [],
   "source": [
    "from pyspark.ml.feature import VectorAssembler"
   ]
  },
  {
   "cell_type": "code",
   "execution_count": 11,
   "metadata": {},
   "outputs": [],
   "source": [
    "assembler = VectorAssembler(inputCols=feat_cols, outputCol=\"features\")\n",
    "final_dataset = assembler.transform(data)"
   ]
  },
  {
   "cell_type": "code",
   "execution_count": 12,
   "metadata": {},
   "outputs": [
    {
     "name": "stdout",
     "output_type": "stream",
     "text": [
      "root\n",
      " |-- Session_Connection_Time: double (nullable = true)\n",
      " |-- Bytes Transferred: double (nullable = true)\n",
      " |-- Kali_Trace_Used: integer (nullable = true)\n",
      " |-- Servers_Corrupted: double (nullable = true)\n",
      " |-- Pages_Corrupted: double (nullable = true)\n",
      " |-- Location: string (nullable = true)\n",
      " |-- WPM_Typing_Speed: double (nullable = true)\n",
      " |-- features: vector (nullable = true)\n",
      "\n"
     ]
    }
   ],
   "source": [
    "final_dataset.printSchema()"
   ]
  },
  {
   "cell_type": "code",
   "execution_count": 13,
   "metadata": {},
   "outputs": [],
   "source": [
    "from pyspark.ml.feature import StandardScaler"
   ]
  },
  {
   "cell_type": "code",
   "execution_count": 15,
   "metadata": {},
   "outputs": [],
   "source": [
    "scaler = StandardScaler(inputCol=\"features\", outputCol=\"scalerFeatures\")\n",
    "final_dataset= scaler.fit(final_dataset).transform(final_dataset)"
   ]
  },
  {
   "cell_type": "code",
   "execution_count": 17,
   "metadata": {},
   "outputs": [],
   "source": [
    "# within set sum of squared error\n",
    "from pyspark.ml.clustering import KMeans\n",
    "kmean2 = KMeans(featuresCol=\"scalerFeatures\", k=2)\n",
    "kmean3 = KMeans(featuresCol=\"scalerFeatures\", k=3)"
   ]
  },
  {
   "cell_type": "code",
   "execution_count": 18,
   "metadata": {},
   "outputs": [],
   "source": [
    "model2 = kmean2.fit(final_dataset)\n",
    "model3 = kmean3.fit(final_dataset)"
   ]
  },
  {
   "cell_type": "code",
   "execution_count": 21,
   "metadata": {},
   "outputs": [
    {
     "name": "stdout",
     "output_type": "stream",
     "text": [
      "Model 2 wssse : 601.7707512676716\n",
      "Model 3 wssse : 434.75507308487647\n"
     ]
    }
   ],
   "source": [
    "print(\"Model 2 wssse :\",model2.computeCost(final_dataset))\n",
    "print(\"Model 3 wssse :\",model3.computeCost(final_dataset))"
   ]
  },
  {
   "cell_type": "code",
   "execution_count": 25,
   "metadata": {},
   "outputs": [
    {
     "name": "stdout",
     "output_type": "stream",
     "text": [
      "With K=2\n",
      "Within Set Sum of Squared Errors = 601.7707512676716\n",
      "------------------------------------------------------------\n",
      "With K=3\n",
      "Within Set Sum of Squared Errors = 434.75507308487647\n",
      "------------------------------------------------------------\n",
      "With K=4\n",
      "Within Set Sum of Squared Errors = 267.1336116887891\n",
      "------------------------------------------------------------\n",
      "With K=5\n",
      "Within Set Sum of Squared Errors = 248.83046300020916\n",
      "------------------------------------------------------------\n",
      "With K=6\n",
      "Within Set Sum of Squared Errors = 229.22882667544616\n",
      "------------------------------------------------------------\n",
      "With K=7\n",
      "Within Set Sum of Squared Errors = 221.0332248481683\n",
      "------------------------------------------------------------\n",
      "With K=8\n",
      "Within Set Sum of Squared Errors = 202.31081630497334\n",
      "------------------------------------------------------------\n",
      "With K=9\n",
      "Within Set Sum of Squared Errors = 196.1172957916953\n",
      "------------------------------------------------------------\n",
      "With K=10\n",
      "Within Set Sum of Squared Errors = 168.37851463972424\n",
      "------------------------------------------------------------\n",
      "With K=11\n",
      "Within Set Sum of Squared Errors = 162.63558564468048\n",
      "------------------------------------------------------------\n",
      "With K=12\n",
      "Within Set Sum of Squared Errors = 163.34465291861335\n",
      "------------------------------------------------------------\n",
      "With K=13\n",
      "Within Set Sum of Squared Errors = 143.1258051938524\n",
      "------------------------------------------------------------\n",
      "With K=14\n",
      "Within Set Sum of Squared Errors = 146.29134688388103\n",
      "------------------------------------------------------------\n",
      "With K=15\n",
      "Within Set Sum of Squared Errors = 132.2620736691586\n",
      "------------------------------------------------------------\n",
      "With K=16\n",
      "Within Set Sum of Squared Errors = 129.32408063559149\n",
      "------------------------------------------------------------\n",
      "With K=17\n",
      "Within Set Sum of Squared Errors = 126.1166460821892\n",
      "------------------------------------------------------------\n",
      "With K=18\n",
      "Within Set Sum of Squared Errors = 122.38034128707955\n",
      "------------------------------------------------------------\n",
      "With K=19\n",
      "Within Set Sum of Squared Errors = 116.31726036021443\n",
      "------------------------------------------------------------\n",
      "With K=20\n",
      "Within Set Sum of Squared Errors = 118.04544235246634\n",
      "------------------------------------------------------------\n"
     ]
    }
   ],
   "source": [
    "for k in range(2,21):\n",
    "    kmeans = KMeans(featuresCol='scalerFeatures',k=k)\n",
    "    model = kmeans.fit(final_dataset)\n",
    "    wssse = model.computeCost(final_dataset)\n",
    "    print(\"With K={}\".format(k))\n",
    "    print(\"Within Set Sum of Squared Errors = \" + str(wssse))\n",
    "    print('--'*30)"
   ]
  },
  {
   "cell_type": "code",
   "execution_count": 26,
   "metadata": {},
   "outputs": [
    {
     "name": "stdout",
     "output_type": "stream",
     "text": [
      "+----------+-----+\n",
      "|prediction|count|\n",
      "+----------+-----+\n",
      "|        12|   29|\n",
      "|         1|   23|\n",
      "|        13|    9|\n",
      "|        16|   11|\n",
      "|         6|   15|\n",
      "|         3|   47|\n",
      "|         5|   14|\n",
      "|        19|   12|\n",
      "|        15|   20|\n",
      "|         9|   20|\n",
      "|        17|   18|\n",
      "|         4|   22|\n",
      "|         8|    8|\n",
      "|         7|   12|\n",
      "|        10|   14|\n",
      "|        11|   11|\n",
      "|        14|   10|\n",
      "|         2|   16|\n",
      "|         0|   14|\n",
      "|        18|    9|\n",
      "+----------+-----+\n",
      "\n"
     ]
    }
   ],
   "source": [
    "model.transform(final_dataset).groupBy('prediction').count().show()"
   ]
  },
  {
   "cell_type": "code",
   "execution_count": 28,
   "metadata": {},
   "outputs": [
    {
     "name": "stdout",
     "output_type": "stream",
     "text": [
      "+----------+-----+\n",
      "|prediction|count|\n",
      "+----------+-----+\n",
      "|         1|  167|\n",
      "|         0|  167|\n",
      "+----------+-----+\n",
      "\n"
     ]
    }
   ],
   "source": [
    "model2.transform(final_dataset).groupBy('prediction').count().show()"
   ]
  },
  {
   "cell_type": "code",
   "execution_count": 29,
   "metadata": {},
   "outputs": [
    {
     "name": "stdout",
     "output_type": "stream",
     "text": [
      "+----------+-----+\n",
      "|prediction|count|\n",
      "+----------+-----+\n",
      "|         1|  167|\n",
      "|         2|   88|\n",
      "|         0|   79|\n",
      "+----------+-----+\n",
      "\n"
     ]
    }
   ],
   "source": [
    "model3.transform(final_dataset).groupBy('prediction').count().show()"
   ]
  }
 ],
 "metadata": {
  "kernelspec": {
   "display_name": "Python 3",
   "language": "python",
   "name": "python3"
  },
  "language_info": {
   "codemirror_mode": {
    "name": "ipython",
    "version": 3
   },
   "file_extension": ".py",
   "mimetype": "text/x-python",
   "name": "python",
   "nbconvert_exporter": "python",
   "pygments_lexer": "ipython3",
   "version": "3.7.3"
  }
 },
 "nbformat": 4,
 "nbformat_minor": 2
}
